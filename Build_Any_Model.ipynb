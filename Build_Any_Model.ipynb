{
 "cells": [
  {
   "cell_type": "code",
   "execution_count": 1,
   "metadata": {},
   "outputs": [],
   "source": [
    "from ML import MLexample \n",
    "kp = MLexample()"
   ]
  },
  {
   "cell_type": "markdown",
   "metadata": {},
   "source": [
    "## Download Image data from available Datasets ##\n",
    "\n",
    "- The two available image datasets are **Hand-written Digits & Fashion (Clothes & Apparel)** from MNIST, on which we build an Image Classification model.\n",
    "- After selection of a dataset, each image among the 70,000 available images are flattened into a row vector of pixel intensity values.\n",
    "- All the row vectors are then appended to a matrix X and their corresponding labels are appeded to matrix Y.\n",
    "- Then both the matrices are divided into Train and Test sets. With 60,000 Train and 10,000 Test set images."
   ]
  },
  {
   "cell_type": "code",
   "execution_count": 2,
   "metadata": {},
   "outputs": [
    {
     "data": {
      "application/vnd.jupyter.widget-view+json": {
       "model_id": "ba07b3623e0e42129f142eda94eebf60",
       "version_major": 2,
       "version_minor": 0
      },
      "text/plain": [
       "interactive(children=(Dropdown(description='Dataset:', options=('Digits_Mnist', 'Fashion_Mnist'), value='Digit…"
      ]
     },
     "metadata": {},
     "output_type": "display_data"
    }
   ],
   "source": [
    "kp.set_data()"
   ]
  },
  {
   "cell_type": "markdown",
   "metadata": {},
   "source": [
    "## Visualize the Images from the Dataset ##\n",
    "\n",
    "- Visualize the images from the selected dataset.\n",
    "- Here you can select the 'n' number of images to visualize and first 'n' images of the Train set of images are displayed.\n",
    "- **Note - Maximum number of images that can be displayed is set to 25.** "
   ]
  },
  {
   "cell_type": "code",
   "execution_count": 3,
   "metadata": {},
   "outputs": [
    {
     "name": "stdout",
     "output_type": "stream",
     "text": [
      "Slide to select number of Images to display\n"
     ]
    },
    {
     "data": {
      "application/vnd.jupyter.widget-view+json": {
       "model_id": "24c41d2bad7e41259693f9d0dd0e56f3",
       "version_major": 2,
       "version_minor": 0
      },
      "text/plain": [
       "interactive(children=(IntSlider(value=5, description='Images:', max=25, min=1), Output()), _dom_classes=('widg…"
      ]
     },
     "metadata": {},
     "output_type": "display_data"
    }
   ],
   "source": [
    "kp.set_viz()"
   ]
  },
  {
   "cell_type": "markdown",
   "metadata": {},
   "source": [
    "## Set Dropout value and select an Architecture for the model from available options ##\n",
    "\n",
    "- Here you can select the Architecture for the neural network and set a value for Dropout. \n",
    "- Dropout is a regularization technique for reducing overfitting in neural networks by preventing complex co-adaptations on training data. It refers to dropping out units (both hidden and visible) in a neural network."
   ]
  },
  {
   "cell_type": "code",
   "execution_count": 4,
   "metadata": {},
   "outputs": [
    {
     "name": "stdout",
     "output_type": "stream",
     "text": [
      "Select the Architecture for the model and then Set Dropout value (0 < d <= 0.5)\n"
     ]
    },
    {
     "data": {
      "application/vnd.jupyter.widget-view+json": {
       "model_id": "7bee8e032dba48ba922a542a9e5e4705",
       "version_major": 2,
       "version_minor": 0
      },
      "text/plain": [
       "interactive(children=(Dropdown(description='Architecture:', options=('784-128-128-10', '784-128-10'), value='7…"
      ]
     },
     "metadata": {},
     "output_type": "display_data"
    }
   ],
   "source": [
    "kp.set_arch()"
   ]
  },
  {
   "cell_type": "markdown",
   "metadata": {},
   "source": [
    "## Select Optimizer, Loss Function and Metrics for evaluating Training performance ##\n",
    "\n",
    "- A hyperparameter is a parameter whose value is set before the learning process begins.\n",
    "- Loss is a method of evaluating how well an algorithm models your dataset. If predictions are totally off, loss function will output a higher number. If they’re pretty good, it’ll output a lower number.\n",
    "- Optimization is a process of searching for parameters that minimize or maximize our Loss functions.\n",
    "- Different metrics are required to measure the efficiency or performance of your algorithm."
   ]
  },
  {
   "cell_type": "code",
   "execution_count": 5,
   "metadata": {},
   "outputs": [
    {
     "name": "stdout",
     "output_type": "stream",
     "text": [
      "Select the Optimizer, Loss Function and performance Metrics\n"
     ]
    },
    {
     "data": {
      "application/vnd.jupyter.widget-view+json": {
       "model_id": "c6d938c7c1984fc780ac30b0028c0e68",
       "version_major": 2,
       "version_minor": 0
      },
      "text/plain": [
       "interactive(children=(Dropdown(description='Optimizer:', options=('Select Optimizer', 'Adam', 'SGD'), value='S…"
      ]
     },
     "metadata": {},
     "output_type": "display_data"
    }
   ],
   "source": [
    "kp.set_HyperParameters()"
   ]
  },
  {
   "cell_type": "markdown",
   "metadata": {},
   "source": [
    "## Train the model by setting the number of Epochs ##\n",
    "- Epochs are the number of iterations over which the model is going to learn.\n",
    "- An iteration describes the number of times a batch of data is passed through the algorithm. (Forward & Back Propagation)"
   ]
  },
  {
   "cell_type": "code",
   "execution_count": 7,
   "metadata": {},
   "outputs": [
    {
     "name": "stdout",
     "output_type": "stream",
     "text": [
      "Select number of Epochs for Training\n"
     ]
    },
    {
     "data": {
      "application/vnd.jupyter.widget-view+json": {
       "model_id": "db9f1d6b00474c54801355036c630d31",
       "version_major": 2,
       "version_minor": 0
      },
      "text/plain": [
       "interactive(children=(Dropdown(description='Epochs:', options=('0', '1', '5', '10', '15'), value='0'), Output(…"
      ]
     },
     "metadata": {},
     "output_type": "display_data"
    },
    {
     "name": "stdout",
     "output_type": "stream",
     "text": [
      "0.06955099105834961\n"
     ]
    }
   ],
   "source": [
    "import time\n",
    "start = time.time()\n",
    "kp.set_epochs()\n",
    "end = time.time()\n",
    "print(end-start)\n"
   ]
  },
  {
   "cell_type": "markdown",
   "metadata": {},
   "source": [
    "## Evaluate learning by testing model performance on Test Data ##\n",
    "\n",
    "- As the learning process is now complete, we can make the model predict labels on Test data.\n",
    "- Evaluating the model's learning performance on Test data gives us an idea of how well our model can perform in predicting previously unseen data. \n",
    "- Accuracy of predictions made and overall loss values are returned."
   ]
  },
  {
   "cell_type": "code",
   "execution_count": null,
   "metadata": {},
   "outputs": [],
   "source": [
    "kp.evaluate_model()"
   ]
  },
  {
   "cell_type": "markdown",
   "metadata": {},
   "source": [
    "## Visualize Predictions for Test Images\n",
    "- Visualize Images from the Test set, model's prediction and the true label for that image. "
   ]
  },
  {
   "cell_type": "code",
   "execution_count": null,
   "metadata": {},
   "outputs": [],
   "source": [
    "kp.set_plots()"
   ]
  },
  {
   "cell_type": "markdown",
   "metadata": {},
   "source": [
    "## Save Model As ##\n",
    "- You can save this model's architecture and final weights (i.e. Learning of the model).\n",
    "- You can then use the  saved model to make predictions on other data from **Make_Predictions.ipynb**.\n",
    "- You can also further improve model's learning by training the saved model and then make predictions. Use **Load_Saved_Model.ipynb**\n",
    "- Enter a Unique name for your file before saving it."
   ]
  },
  {
   "cell_type": "code",
   "execution_count": null,
   "metadata": {},
   "outputs": [],
   "source": [
    "kp.save_model(name=\"\")"
   ]
  }
 ],
 "metadata": {
  "kernelspec": {
   "display_name": "Python 3",
   "language": "python",
   "name": "python3"
  },
  "language_info": {
   "codemirror_mode": {
    "name": "ipython",
    "version": 3
   },
   "file_extension": ".py",
   "mimetype": "text/x-python",
   "name": "python",
   "nbconvert_exporter": "python",
   "pygments_lexer": "ipython3",
   "version": "3.7.5"
  }
 },
 "nbformat": 4,
 "nbformat_minor": 2
}
